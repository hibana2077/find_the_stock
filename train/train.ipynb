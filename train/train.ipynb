{
 "cells": [
  {
   "cell_type": "code",
   "execution_count": 39,
   "metadata": {},
   "outputs": [],
   "source": [
    "import requests\n",
    "import pandas as pd\n",
    "import numpy as np\n",
    "import tensorflow as tf\n",
    "import plotly.express as px"
   ]
  },
  {
   "cell_type": "code",
   "execution_count": 40,
   "metadata": {},
   "outputs": [],
   "source": [
    "api_token = \"295c2ca16f58bb2840fcbe748fba2a09\"\n",
    "api_url_base = \"https://api.fugle.tw/marketdata/v0.3/candles\""
   ]
  },
  {
   "cell_type": "code",
   "execution_count": 69,
   "metadata": {},
   "outputs": [],
   "source": [
    "res = requests.get(\"https://api.fugle.tw/marketdata/v0.3/candles?symbolId=0050&apiToken=295c2ca16f58bb2840fcbe748fba2a09&from=2022-03-10&to=2022-12-31&fields=open,high,low,close,volume,turnover,change\").json()"
   ]
  },
  {
   "cell_type": "code",
   "execution_count": 70,
   "metadata": {},
   "outputs": [
    {
     "data": {
      "text/html": [
       "<div>\n",
       "<style scoped>\n",
       "    .dataframe tbody tr th:only-of-type {\n",
       "        vertical-align: middle;\n",
       "    }\n",
       "\n",
       "    .dataframe tbody tr th {\n",
       "        vertical-align: top;\n",
       "    }\n",
       "\n",
       "    .dataframe thead th {\n",
       "        text-align: right;\n",
       "    }\n",
       "</style>\n",
       "<table border=\"1\" class=\"dataframe\">\n",
       "  <thead>\n",
       "    <tr style=\"text-align: right;\">\n",
       "      <th></th>\n",
       "      <th>date</th>\n",
       "      <th>open</th>\n",
       "      <th>high</th>\n",
       "      <th>low</th>\n",
       "      <th>close</th>\n",
       "      <th>volume</th>\n",
       "      <th>turnover</th>\n",
       "      <th>change</th>\n",
       "    </tr>\n",
       "  </thead>\n",
       "  <tbody>\n",
       "    <tr>\n",
       "      <th>0</th>\n",
       "      <td>2022-12-30</td>\n",
       "      <td>110.60</td>\n",
       "      <td>110.75</td>\n",
       "      <td>110.2</td>\n",
       "      <td>110.20</td>\n",
       "      <td>8890361</td>\n",
       "      <td>982130895</td>\n",
       "      <td>0.70</td>\n",
       "    </tr>\n",
       "    <tr>\n",
       "      <th>1</th>\n",
       "      <td>2022-12-29</td>\n",
       "      <td>109.20</td>\n",
       "      <td>109.60</td>\n",
       "      <td>108.4</td>\n",
       "      <td>109.50</td>\n",
       "      <td>14342647</td>\n",
       "      <td>1562777609</td>\n",
       "      <td>-0.50</td>\n",
       "    </tr>\n",
       "    <tr>\n",
       "      <th>2</th>\n",
       "      <td>2022-12-28</td>\n",
       "      <td>110.50</td>\n",
       "      <td>110.50</td>\n",
       "      <td>109.4</td>\n",
       "      <td>110.00</td>\n",
       "      <td>13002156</td>\n",
       "      <td>1428236786</td>\n",
       "      <td>-1.60</td>\n",
       "    </tr>\n",
       "    <tr>\n",
       "      <th>3</th>\n",
       "      <td>2022-12-27</td>\n",
       "      <td>111.40</td>\n",
       "      <td>112.25</td>\n",
       "      <td>111.4</td>\n",
       "      <td>111.60</td>\n",
       "      <td>4269800</td>\n",
       "      <td>477679306</td>\n",
       "      <td>0.50</td>\n",
       "    </tr>\n",
       "    <tr>\n",
       "      <th>4</th>\n",
       "      <td>2022-12-26</td>\n",
       "      <td>110.80</td>\n",
       "      <td>111.20</td>\n",
       "      <td>110.7</td>\n",
       "      <td>111.10</td>\n",
       "      <td>4258430</td>\n",
       "      <td>472402011</td>\n",
       "      <td>0.40</td>\n",
       "    </tr>\n",
       "    <tr>\n",
       "      <th>...</th>\n",
       "      <td>...</td>\n",
       "      <td>...</td>\n",
       "      <td>...</td>\n",
       "      <td>...</td>\n",
       "      <td>...</td>\n",
       "      <td>...</td>\n",
       "      <td>...</td>\n",
       "      <td>...</td>\n",
       "    </tr>\n",
       "    <tr>\n",
       "      <th>201</th>\n",
       "      <td>2022-03-16</td>\n",
       "      <td>133.20</td>\n",
       "      <td>133.25</td>\n",
       "      <td>131.1</td>\n",
       "      <td>132.20</td>\n",
       "      <td>20364324</td>\n",
       "      <td>2682635242</td>\n",
       "      <td>0.55</td>\n",
       "    </tr>\n",
       "    <tr>\n",
       "      <th>202</th>\n",
       "      <td>2022-03-15</td>\n",
       "      <td>133.15</td>\n",
       "      <td>133.15</td>\n",
       "      <td>131.4</td>\n",
       "      <td>131.65</td>\n",
       "      <td>26456827</td>\n",
       "      <td>3486775988</td>\n",
       "      <td>-2.75</td>\n",
       "    </tr>\n",
       "    <tr>\n",
       "      <th>203</th>\n",
       "      <td>2022-03-14</td>\n",
       "      <td>135.00</td>\n",
       "      <td>135.35</td>\n",
       "      <td>134.0</td>\n",
       "      <td>134.40</td>\n",
       "      <td>9183817</td>\n",
       "      <td>1235380453</td>\n",
       "      <td>0.00</td>\n",
       "    </tr>\n",
       "    <tr>\n",
       "      <th>204</th>\n",
       "      <td>2022-03-11</td>\n",
       "      <td>135.85</td>\n",
       "      <td>135.85</td>\n",
       "      <td>134.2</td>\n",
       "      <td>134.40</td>\n",
       "      <td>11806594</td>\n",
       "      <td>1591939591</td>\n",
       "      <td>-1.95</td>\n",
       "    </tr>\n",
       "    <tr>\n",
       "      <th>205</th>\n",
       "      <td>2022-03-10</td>\n",
       "      <td>135.20</td>\n",
       "      <td>136.55</td>\n",
       "      <td>135.2</td>\n",
       "      <td>136.35</td>\n",
       "      <td>15177320</td>\n",
       "      <td>2065524204</td>\n",
       "      <td>3.85</td>\n",
       "    </tr>\n",
       "  </tbody>\n",
       "</table>\n",
       "<p>206 rows × 8 columns</p>\n",
       "</div>"
      ],
      "text/plain": [
       "           date    open    high    low   close    volume    turnover  change\n",
       "0    2022-12-30  110.60  110.75  110.2  110.20   8890361   982130895    0.70\n",
       "1    2022-12-29  109.20  109.60  108.4  109.50  14342647  1562777609   -0.50\n",
       "2    2022-12-28  110.50  110.50  109.4  110.00  13002156  1428236786   -1.60\n",
       "3    2022-12-27  111.40  112.25  111.4  111.60   4269800   477679306    0.50\n",
       "4    2022-12-26  110.80  111.20  110.7  111.10   4258430   472402011    0.40\n",
       "..          ...     ...     ...    ...     ...       ...         ...     ...\n",
       "201  2022-03-16  133.20  133.25  131.1  132.20  20364324  2682635242    0.55\n",
       "202  2022-03-15  133.15  133.15  131.4  131.65  26456827  3486775988   -2.75\n",
       "203  2022-03-14  135.00  135.35  134.0  134.40   9183817  1235380453    0.00\n",
       "204  2022-03-11  135.85  135.85  134.2  134.40  11806594  1591939591   -1.95\n",
       "205  2022-03-10  135.20  136.55  135.2  136.35  15177320  2065524204    3.85\n",
       "\n",
       "[206 rows x 8 columns]"
      ]
     },
     "execution_count": 70,
     "metadata": {},
     "output_type": "execute_result"
    }
   ],
   "source": [
    "df = pd.DataFrame(res['data'])\n",
    "df"
   ]
  },
  {
   "cell_type": "code",
   "execution_count": 71,
   "metadata": {},
   "outputs": [
    {
     "data": {
      "application/vnd.plotly.v1+json": {
       "config": {
        "plotlyServerURL": "https://plot.ly"
       },
       "data": [
        {
         "hovertemplate": "date=%{x}<br>change=%{y}<extra></extra>",
         "legendgroup": "",
         "line": {
          "color": "#636efa",
          "dash": "solid"
         },
         "marker": {
          "symbol": "circle"
         },
         "mode": "lines",
         "name": "",
         "orientation": "v",
         "showlegend": false,
         "type": "scatter",
         "x": [
          "2022-12-30",
          "2022-12-29",
          "2022-12-28",
          "2022-12-27",
          "2022-12-26",
          "2022-12-23",
          "2022-12-22",
          "2022-12-21",
          "2022-12-20",
          "2022-12-19",
          "2022-12-16",
          "2022-12-15",
          "2022-12-14",
          "2022-12-13",
          "2022-12-12",
          "2022-12-09",
          "2022-12-08",
          "2022-12-07",
          "2022-12-06",
          "2022-12-05",
          "2022-12-02",
          "2022-12-01",
          "2022-11-30",
          "2022-11-29",
          "2022-11-28",
          "2022-11-25",
          "2022-11-24",
          "2022-11-23",
          "2022-11-22",
          "2022-11-21",
          "2022-11-18",
          "2022-11-17",
          "2022-11-16",
          "2022-11-15",
          "2022-11-14",
          "2022-11-11",
          "2022-11-10",
          "2022-11-09",
          "2022-11-08",
          "2022-11-07",
          "2022-11-04",
          "2022-11-03",
          "2022-11-02",
          "2022-11-01",
          "2022-10-31",
          "2022-10-28",
          "2022-10-27",
          "2022-10-26",
          "2022-10-25",
          "2022-10-24",
          "2022-10-21",
          "2022-10-20",
          "2022-10-19",
          "2022-10-18",
          "2022-10-17",
          "2022-10-14",
          "2022-10-13",
          "2022-10-12",
          "2022-10-11",
          "2022-10-07",
          "2022-10-06",
          "2022-10-05",
          "2022-10-04",
          "2022-10-03",
          "2022-09-30",
          "2022-09-29",
          "2022-09-28",
          "2022-09-27",
          "2022-09-26",
          "2022-09-23",
          "2022-09-22",
          "2022-09-21",
          "2022-09-20",
          "2022-09-19",
          "2022-09-16",
          "2022-09-15",
          "2022-09-14",
          "2022-09-13",
          "2022-09-12",
          "2022-09-08",
          "2022-09-07",
          "2022-09-06",
          "2022-09-05",
          "2022-09-02",
          "2022-09-01",
          "2022-08-31",
          "2022-08-30",
          "2022-08-29",
          "2022-08-26",
          "2022-08-25",
          "2022-08-24",
          "2022-08-23",
          "2022-08-22",
          "2022-08-19",
          "2022-08-18",
          "2022-08-17",
          "2022-08-16",
          "2022-08-15",
          "2022-08-12",
          "2022-08-11",
          "2022-08-10",
          "2022-08-09",
          "2022-08-08",
          "2022-08-05",
          "2022-08-04",
          "2022-08-03",
          "2022-08-02",
          "2022-08-01",
          "2022-07-29",
          "2022-07-28",
          "2022-07-27",
          "2022-07-26",
          "2022-07-25",
          "2022-07-22",
          "2022-07-21",
          "2022-07-20",
          "2022-07-19",
          "2022-07-18",
          "2022-07-15",
          "2022-07-14",
          "2022-07-13",
          "2022-07-12",
          "2022-07-11",
          "2022-07-08",
          "2022-07-07",
          "2022-07-06",
          "2022-07-05",
          "2022-07-04",
          "2022-07-01",
          "2022-06-30",
          "2022-06-29",
          "2022-06-28",
          "2022-06-27",
          "2022-06-24",
          "2022-06-23",
          "2022-06-22",
          "2022-06-21",
          "2022-06-20",
          "2022-06-17",
          "2022-06-16",
          "2022-06-15",
          "2022-06-14",
          "2022-06-13",
          "2022-06-10",
          "2022-06-09",
          "2022-06-08",
          "2022-06-07",
          "2022-06-06",
          "2022-06-02",
          "2022-06-01",
          "2022-05-31",
          "2022-05-30",
          "2022-05-27",
          "2022-05-26",
          "2022-05-25",
          "2022-05-24",
          "2022-05-23",
          "2022-05-20",
          "2022-05-19",
          "2022-05-18",
          "2022-05-17",
          "2022-05-16",
          "2022-05-13",
          "2022-05-12",
          "2022-05-11",
          "2022-05-10",
          "2022-05-09",
          "2022-05-06",
          "2022-05-05",
          "2022-05-04",
          "2022-05-03",
          "2022-04-29",
          "2022-04-28",
          "2022-04-27",
          "2022-04-26",
          "2022-04-25",
          "2022-04-22",
          "2022-04-21",
          "2022-04-20",
          "2022-04-19",
          "2022-04-18",
          "2022-04-15",
          "2022-04-14",
          "2022-04-13",
          "2022-04-12",
          "2022-04-11",
          "2022-04-08",
          "2022-04-07",
          "2022-04-06",
          "2022-04-01",
          "2022-03-31",
          "2022-03-30",
          "2022-03-29",
          "2022-03-28",
          "2022-03-25",
          "2022-03-24",
          "2022-03-23",
          "2022-03-22",
          "2022-03-21",
          "2022-03-18",
          "2022-03-17",
          "2022-03-16",
          "2022-03-15",
          "2022-03-14",
          "2022-03-11",
          "2022-03-10"
         ],
         "xaxis": "x",
         "y": [
          0.7,
          -0.5,
          -1.6,
          0.5,
          0.4,
          -1.9,
          1.85,
          0.45,
          -2.05,
          -0.65,
          -1.9,
          0.1,
          1.4,
          -0.5,
          -1.1,
          1.75,
          -1.35,
          -0.7,
          -2.15,
          0.15,
          -1.05,
          2,
          0.95,
          1.05,
          -2.35,
          0,
          1.1,
          0.8,
          0.95,
          -0.4,
          -0.3,
          0.05,
          -0.2,
          4.7,
          1,
          5.5,
          -1,
          2.9,
          1.05,
          1.7,
          0.15,
          -1.3,
          0.4,
          0.55,
          1.3,
          -1.25,
          1.4,
          0.9,
          -1.9,
          -0.3,
          -0.3,
          -0.55,
          -1.35,
          1.15,
          -1.9,
          2.85,
          -1.2,
          -0.5,
          -5.5,
          -1.8,
          0.75,
          2.45,
          2.6,
          -1.25,
          -1.45,
          -0.35,
          -2.25,
          -0.15,
          -2.05,
          -1.05,
          -1.35,
          -0.95,
          1,
          -0.5,
          -1.3,
          0.2,
          -2.35,
          0.6,
          2.4,
          0.8,
          -2.7,
          0.75,
          0.25,
          -1.25,
          -2.45,
          0.85,
          0.2,
          -3.05,
          0.6,
          1.1,
          -0.3,
          -1.6,
          -1.75,
          0.2,
          -0.8,
          0.05,
          0.2,
          1.1,
          0.75,
          2.15,
          -1.25,
          -0.1,
          -0.25,
          2.95,
          0.3,
          0.7,
          -2.1,
          -0.35,
          1.1,
          0.2,
          1.05,
          -1.05,
          -0.1,
          0.45,
          1.3,
          0.75,
          0.1,
          0,
          1.5,
          0.55,
          3.9,
          -2.7,
          -1,
          1.15,
          3.25,
          -2.15,
          0.55,
          -1.1,
          -4.25,
          -3,
          -1,
          -1.15,
          2.8,
          0.25,
          -1.6,
          -2.7,
          2.45,
          -1.1,
          -1.65,
          -0.25,
          -0.6,
          -0.2,
          -3.55,
          -1.3,
          -0.4,
          1.4,
          -1.3,
          0.9,
          -1.35,
          -0.65,
          1.25,
          3.05,
          2.6,
          -1.55,
          0.95,
          -1.4,
          0.25,
          1.35,
          -2.4,
          1.35,
          1.35,
          0.65,
          1.1,
          -2.95,
          0.2,
          -0.55,
          -2.1,
          -2.6,
          1.45,
          0,
          -0.95,
          1.65,
          0.55,
          -2.7,
          0,
          -2.35,
          -1.15,
          0.1,
          0.65,
          0.45,
          -0.7,
          -2.3,
          -0.5,
          2.5,
          0.1,
          -2.1,
          0.75,
          -2.45,
          -0.7,
          -1.15,
          -0.45,
          1.7,
          0.15,
          -1.5,
          0.2,
          -0.1,
          1.3,
          -0.2,
          0.9,
          -0.3,
          4.2,
          0.55,
          -2.75,
          0,
          -1.95,
          3.85
         ],
         "yaxis": "y"
        }
       ],
       "layout": {
        "legend": {
         "tracegroupgap": 0
        },
        "template": {
         "data": {
          "bar": [
           {
            "error_x": {
             "color": "#2a3f5f"
            },
            "error_y": {
             "color": "#2a3f5f"
            },
            "marker": {
             "line": {
              "color": "#E5ECF6",
              "width": 0.5
             },
             "pattern": {
              "fillmode": "overlay",
              "size": 10,
              "solidity": 0.2
             }
            },
            "type": "bar"
           }
          ],
          "barpolar": [
           {
            "marker": {
             "line": {
              "color": "#E5ECF6",
              "width": 0.5
             },
             "pattern": {
              "fillmode": "overlay",
              "size": 10,
              "solidity": 0.2
             }
            },
            "type": "barpolar"
           }
          ],
          "carpet": [
           {
            "aaxis": {
             "endlinecolor": "#2a3f5f",
             "gridcolor": "white",
             "linecolor": "white",
             "minorgridcolor": "white",
             "startlinecolor": "#2a3f5f"
            },
            "baxis": {
             "endlinecolor": "#2a3f5f",
             "gridcolor": "white",
             "linecolor": "white",
             "minorgridcolor": "white",
             "startlinecolor": "#2a3f5f"
            },
            "type": "carpet"
           }
          ],
          "choropleth": [
           {
            "colorbar": {
             "outlinewidth": 0,
             "ticks": ""
            },
            "type": "choropleth"
           }
          ],
          "contour": [
           {
            "colorbar": {
             "outlinewidth": 0,
             "ticks": ""
            },
            "colorscale": [
             [
              0,
              "#0d0887"
             ],
             [
              0.1111111111111111,
              "#46039f"
             ],
             [
              0.2222222222222222,
              "#7201a8"
             ],
             [
              0.3333333333333333,
              "#9c179e"
             ],
             [
              0.4444444444444444,
              "#bd3786"
             ],
             [
              0.5555555555555556,
              "#d8576b"
             ],
             [
              0.6666666666666666,
              "#ed7953"
             ],
             [
              0.7777777777777778,
              "#fb9f3a"
             ],
             [
              0.8888888888888888,
              "#fdca26"
             ],
             [
              1,
              "#f0f921"
             ]
            ],
            "type": "contour"
           }
          ],
          "contourcarpet": [
           {
            "colorbar": {
             "outlinewidth": 0,
             "ticks": ""
            },
            "type": "contourcarpet"
           }
          ],
          "heatmap": [
           {
            "colorbar": {
             "outlinewidth": 0,
             "ticks": ""
            },
            "colorscale": [
             [
              0,
              "#0d0887"
             ],
             [
              0.1111111111111111,
              "#46039f"
             ],
             [
              0.2222222222222222,
              "#7201a8"
             ],
             [
              0.3333333333333333,
              "#9c179e"
             ],
             [
              0.4444444444444444,
              "#bd3786"
             ],
             [
              0.5555555555555556,
              "#d8576b"
             ],
             [
              0.6666666666666666,
              "#ed7953"
             ],
             [
              0.7777777777777778,
              "#fb9f3a"
             ],
             [
              0.8888888888888888,
              "#fdca26"
             ],
             [
              1,
              "#f0f921"
             ]
            ],
            "type": "heatmap"
           }
          ],
          "heatmapgl": [
           {
            "colorbar": {
             "outlinewidth": 0,
             "ticks": ""
            },
            "colorscale": [
             [
              0,
              "#0d0887"
             ],
             [
              0.1111111111111111,
              "#46039f"
             ],
             [
              0.2222222222222222,
              "#7201a8"
             ],
             [
              0.3333333333333333,
              "#9c179e"
             ],
             [
              0.4444444444444444,
              "#bd3786"
             ],
             [
              0.5555555555555556,
              "#d8576b"
             ],
             [
              0.6666666666666666,
              "#ed7953"
             ],
             [
              0.7777777777777778,
              "#fb9f3a"
             ],
             [
              0.8888888888888888,
              "#fdca26"
             ],
             [
              1,
              "#f0f921"
             ]
            ],
            "type": "heatmapgl"
           }
          ],
          "histogram": [
           {
            "marker": {
             "pattern": {
              "fillmode": "overlay",
              "size": 10,
              "solidity": 0.2
             }
            },
            "type": "histogram"
           }
          ],
          "histogram2d": [
           {
            "colorbar": {
             "outlinewidth": 0,
             "ticks": ""
            },
            "colorscale": [
             [
              0,
              "#0d0887"
             ],
             [
              0.1111111111111111,
              "#46039f"
             ],
             [
              0.2222222222222222,
              "#7201a8"
             ],
             [
              0.3333333333333333,
              "#9c179e"
             ],
             [
              0.4444444444444444,
              "#bd3786"
             ],
             [
              0.5555555555555556,
              "#d8576b"
             ],
             [
              0.6666666666666666,
              "#ed7953"
             ],
             [
              0.7777777777777778,
              "#fb9f3a"
             ],
             [
              0.8888888888888888,
              "#fdca26"
             ],
             [
              1,
              "#f0f921"
             ]
            ],
            "type": "histogram2d"
           }
          ],
          "histogram2dcontour": [
           {
            "colorbar": {
             "outlinewidth": 0,
             "ticks": ""
            },
            "colorscale": [
             [
              0,
              "#0d0887"
             ],
             [
              0.1111111111111111,
              "#46039f"
             ],
             [
              0.2222222222222222,
              "#7201a8"
             ],
             [
              0.3333333333333333,
              "#9c179e"
             ],
             [
              0.4444444444444444,
              "#bd3786"
             ],
             [
              0.5555555555555556,
              "#d8576b"
             ],
             [
              0.6666666666666666,
              "#ed7953"
             ],
             [
              0.7777777777777778,
              "#fb9f3a"
             ],
             [
              0.8888888888888888,
              "#fdca26"
             ],
             [
              1,
              "#f0f921"
             ]
            ],
            "type": "histogram2dcontour"
           }
          ],
          "mesh3d": [
           {
            "colorbar": {
             "outlinewidth": 0,
             "ticks": ""
            },
            "type": "mesh3d"
           }
          ],
          "parcoords": [
           {
            "line": {
             "colorbar": {
              "outlinewidth": 0,
              "ticks": ""
             }
            },
            "type": "parcoords"
           }
          ],
          "pie": [
           {
            "automargin": true,
            "type": "pie"
           }
          ],
          "scatter": [
           {
            "fillpattern": {
             "fillmode": "overlay",
             "size": 10,
             "solidity": 0.2
            },
            "type": "scatter"
           }
          ],
          "scatter3d": [
           {
            "line": {
             "colorbar": {
              "outlinewidth": 0,
              "ticks": ""
             }
            },
            "marker": {
             "colorbar": {
              "outlinewidth": 0,
              "ticks": ""
             }
            },
            "type": "scatter3d"
           }
          ],
          "scattercarpet": [
           {
            "marker": {
             "colorbar": {
              "outlinewidth": 0,
              "ticks": ""
             }
            },
            "type": "scattercarpet"
           }
          ],
          "scattergeo": [
           {
            "marker": {
             "colorbar": {
              "outlinewidth": 0,
              "ticks": ""
             }
            },
            "type": "scattergeo"
           }
          ],
          "scattergl": [
           {
            "marker": {
             "colorbar": {
              "outlinewidth": 0,
              "ticks": ""
             }
            },
            "type": "scattergl"
           }
          ],
          "scattermapbox": [
           {
            "marker": {
             "colorbar": {
              "outlinewidth": 0,
              "ticks": ""
             }
            },
            "type": "scattermapbox"
           }
          ],
          "scatterpolar": [
           {
            "marker": {
             "colorbar": {
              "outlinewidth": 0,
              "ticks": ""
             }
            },
            "type": "scatterpolar"
           }
          ],
          "scatterpolargl": [
           {
            "marker": {
             "colorbar": {
              "outlinewidth": 0,
              "ticks": ""
             }
            },
            "type": "scatterpolargl"
           }
          ],
          "scatterternary": [
           {
            "marker": {
             "colorbar": {
              "outlinewidth": 0,
              "ticks": ""
             }
            },
            "type": "scatterternary"
           }
          ],
          "surface": [
           {
            "colorbar": {
             "outlinewidth": 0,
             "ticks": ""
            },
            "colorscale": [
             [
              0,
              "#0d0887"
             ],
             [
              0.1111111111111111,
              "#46039f"
             ],
             [
              0.2222222222222222,
              "#7201a8"
             ],
             [
              0.3333333333333333,
              "#9c179e"
             ],
             [
              0.4444444444444444,
              "#bd3786"
             ],
             [
              0.5555555555555556,
              "#d8576b"
             ],
             [
              0.6666666666666666,
              "#ed7953"
             ],
             [
              0.7777777777777778,
              "#fb9f3a"
             ],
             [
              0.8888888888888888,
              "#fdca26"
             ],
             [
              1,
              "#f0f921"
             ]
            ],
            "type": "surface"
           }
          ],
          "table": [
           {
            "cells": {
             "fill": {
              "color": "#EBF0F8"
             },
             "line": {
              "color": "white"
             }
            },
            "header": {
             "fill": {
              "color": "#C8D4E3"
             },
             "line": {
              "color": "white"
             }
            },
            "type": "table"
           }
          ]
         },
         "layout": {
          "annotationdefaults": {
           "arrowcolor": "#2a3f5f",
           "arrowhead": 0,
           "arrowwidth": 1
          },
          "autotypenumbers": "strict",
          "coloraxis": {
           "colorbar": {
            "outlinewidth": 0,
            "ticks": ""
           }
          },
          "colorscale": {
           "diverging": [
            [
             0,
             "#8e0152"
            ],
            [
             0.1,
             "#c51b7d"
            ],
            [
             0.2,
             "#de77ae"
            ],
            [
             0.3,
             "#f1b6da"
            ],
            [
             0.4,
             "#fde0ef"
            ],
            [
             0.5,
             "#f7f7f7"
            ],
            [
             0.6,
             "#e6f5d0"
            ],
            [
             0.7,
             "#b8e186"
            ],
            [
             0.8,
             "#7fbc41"
            ],
            [
             0.9,
             "#4d9221"
            ],
            [
             1,
             "#276419"
            ]
           ],
           "sequential": [
            [
             0,
             "#0d0887"
            ],
            [
             0.1111111111111111,
             "#46039f"
            ],
            [
             0.2222222222222222,
             "#7201a8"
            ],
            [
             0.3333333333333333,
             "#9c179e"
            ],
            [
             0.4444444444444444,
             "#bd3786"
            ],
            [
             0.5555555555555556,
             "#d8576b"
            ],
            [
             0.6666666666666666,
             "#ed7953"
            ],
            [
             0.7777777777777778,
             "#fb9f3a"
            ],
            [
             0.8888888888888888,
             "#fdca26"
            ],
            [
             1,
             "#f0f921"
            ]
           ],
           "sequentialminus": [
            [
             0,
             "#0d0887"
            ],
            [
             0.1111111111111111,
             "#46039f"
            ],
            [
             0.2222222222222222,
             "#7201a8"
            ],
            [
             0.3333333333333333,
             "#9c179e"
            ],
            [
             0.4444444444444444,
             "#bd3786"
            ],
            [
             0.5555555555555556,
             "#d8576b"
            ],
            [
             0.6666666666666666,
             "#ed7953"
            ],
            [
             0.7777777777777778,
             "#fb9f3a"
            ],
            [
             0.8888888888888888,
             "#fdca26"
            ],
            [
             1,
             "#f0f921"
            ]
           ]
          },
          "colorway": [
           "#636efa",
           "#EF553B",
           "#00cc96",
           "#ab63fa",
           "#FFA15A",
           "#19d3f3",
           "#FF6692",
           "#B6E880",
           "#FF97FF",
           "#FECB52"
          ],
          "font": {
           "color": "#2a3f5f"
          },
          "geo": {
           "bgcolor": "white",
           "lakecolor": "white",
           "landcolor": "#E5ECF6",
           "showlakes": true,
           "showland": true,
           "subunitcolor": "white"
          },
          "hoverlabel": {
           "align": "left"
          },
          "hovermode": "closest",
          "mapbox": {
           "style": "light"
          },
          "paper_bgcolor": "white",
          "plot_bgcolor": "#E5ECF6",
          "polar": {
           "angularaxis": {
            "gridcolor": "white",
            "linecolor": "white",
            "ticks": ""
           },
           "bgcolor": "#E5ECF6",
           "radialaxis": {
            "gridcolor": "white",
            "linecolor": "white",
            "ticks": ""
           }
          },
          "scene": {
           "xaxis": {
            "backgroundcolor": "#E5ECF6",
            "gridcolor": "white",
            "gridwidth": 2,
            "linecolor": "white",
            "showbackground": true,
            "ticks": "",
            "zerolinecolor": "white"
           },
           "yaxis": {
            "backgroundcolor": "#E5ECF6",
            "gridcolor": "white",
            "gridwidth": 2,
            "linecolor": "white",
            "showbackground": true,
            "ticks": "",
            "zerolinecolor": "white"
           },
           "zaxis": {
            "backgroundcolor": "#E5ECF6",
            "gridcolor": "white",
            "gridwidth": 2,
            "linecolor": "white",
            "showbackground": true,
            "ticks": "",
            "zerolinecolor": "white"
           }
          },
          "shapedefaults": {
           "line": {
            "color": "#2a3f5f"
           }
          },
          "ternary": {
           "aaxis": {
            "gridcolor": "white",
            "linecolor": "white",
            "ticks": ""
           },
           "baxis": {
            "gridcolor": "white",
            "linecolor": "white",
            "ticks": ""
           },
           "bgcolor": "#E5ECF6",
           "caxis": {
            "gridcolor": "white",
            "linecolor": "white",
            "ticks": ""
           }
          },
          "title": {
           "x": 0.05
          },
          "xaxis": {
           "automargin": true,
           "gridcolor": "white",
           "linecolor": "white",
           "ticks": "",
           "title": {
            "standoff": 15
           },
           "zerolinecolor": "white",
           "zerolinewidth": 2
          },
          "yaxis": {
           "automargin": true,
           "gridcolor": "white",
           "linecolor": "white",
           "ticks": "",
           "title": {
            "standoff": 15
           },
           "zerolinecolor": "white",
           "zerolinewidth": 2
          }
         }
        },
        "title": {
         "text": "2609"
        },
        "xaxis": {
         "anchor": "y",
         "domain": [
          0,
          1
         ],
         "title": {
          "text": "date"
         }
        },
        "yaxis": {
         "anchor": "x",
         "domain": [
          0,
          1
         ],
         "title": {
          "text": "change"
         }
        }
       }
      }
     },
     "metadata": {},
     "output_type": "display_data"
    }
   ],
   "source": [
    "#plotly\n",
    "fig = px.line(df, x=\"date\", y=\"change\", title='2609')\n",
    "fig.show()"
   ]
  },
  {
   "attachments": {},
   "cell_type": "markdown",
   "metadata": {},
   "source": [
    "# 資料整理\n",
    "\n",
    "- 把單日漲幅大於 0.5% 的標記為 漲，小於 -0.5% 的標記為 跌，其他標記為 平。\n",
    "- 然後把漲跌平的前30天的資料當作輸入，預測第31天的漲跌平。\n",
    "- 各取 1000 筆資料，共 3000 筆資料 做為訓練資料。\n",
    "- 各取 100 筆資料，共 300 筆資料 做為測試資料。"
   ]
  }
 ],
 "metadata": {
  "kernelspec": {
   "display_name": "Python 3",
   "language": "python",
   "name": "python3"
  },
  "language_info": {
   "codemirror_mode": {
    "name": "ipython",
    "version": 3
   },
   "file_extension": ".py",
   "mimetype": "text/x-python",
   "name": "python",
   "nbconvert_exporter": "python",
   "pygments_lexer": "ipython3",
   "version": "3.10.8"
  },
  "orig_nbformat": 4,
  "vscode": {
   "interpreter": {
    "hash": "26de051ba29f2982a8de78e945f0abaf191376122a1563185a90213a26c5da77"
   }
  }
 },
 "nbformat": 4,
 "nbformat_minor": 2
}
